{
 "cells": [
  {
   "cell_type": "code",
   "execution_count": 1,
   "metadata": {},
   "outputs": [],
   "source": [
    "import pandas as pd\n",
    "import numpy as np\n",
    "import xgboost as xgb\n",
    "from sklearn.model_selection import train_test_split\n",
    "from sklearn.metrics import recall_score, precision_score, accuracy_score\n",
    "import warnings\n",
    "warnings.filterwarnings(\"ignore\")\n",
    "import seaborn as sb\n",
    "from matplotlib import pyplot as plt"
   ]
  },
  {
   "cell_type": "markdown",
   "metadata": {},
   "source": [
    "## Problem Statement \n",
    "\n",
    "Titanic Survival Prediction"
   ]
  },
  {
   "cell_type": "markdown",
   "metadata": {},
   "source": [
    "## Data Selection\n",
    "Titanic Survival dataset taken from [Kaggle](https://storage.googleapis.com/kaggle-competitions-data/kaggle/3136/all.zip?GoogleAccessId=web-data@kaggle-161607.iam.gserviceaccount.com&Expires=1573812874&Signature=COtjlEyZlUFaSqv2RFLDWduFg3QIvloTExByha3YUh%2BRmpsLDzsD0aX330NlwdmQYmy9ZeSW2pifTVlsop7oPg5I%2BHZnPmSORR2dpl3i82XRYR%2FaMvmo6KJqQ2txdqimHDUjtHcErB%2BmA1WNDHYfoZppFKY4aYO31eUh8yvP2A9NABm9mH7JEWjjo9OpJCN4%2FmJZ6qkb6v%2FlnNi0hwuF0eJtNUv4WpgTr2fJlI5vDSC3wQUE9Z1AjPp8xzK9OXTpEr%2Fgmd%2FYyzIVBiEI4cv1GxIgoh96mDlV26S99Sdbu30qIBxKNg3jdJ8Y4kQxnE6pV%2FhDSwEvlTEeLQo2Wj6vDQ%3D%3D&response-content-disposition=attachment%3B+filename%3Dtitanic.zip)"
   ]
  },
  {
   "cell_type": "code",
   "execution_count": 2,
   "metadata": {},
   "outputs": [],
   "source": [
    "data_path = \"train.csv\""
   ]
  },
  {
   "cell_type": "code",
   "execution_count": 3,
   "metadata": {},
   "outputs": [],
   "source": [
    "data = pd.read_csv(data_path)"
   ]
  },
  {
   "cell_type": "markdown",
   "metadata": {},
   "source": [
    "## Exploratory Data Analysis"
   ]
  },
  {
   "cell_type": "code",
   "execution_count": 4,
   "metadata": {},
   "outputs": [
    {
     "data": {
      "text/plain": [
       "(891, 12)"
      ]
     },
     "execution_count": 4,
     "metadata": {},
     "output_type": "execute_result"
    }
   ],
   "source": [
    "data.shape"
   ]
  },
  {
   "cell_type": "code",
   "execution_count": 5,
   "metadata": {},
   "outputs": [
    {
     "data": {
      "text/html": [
       "<div>\n",
       "<style scoped>\n",
       "    .dataframe tbody tr th:only-of-type {\n",
       "        vertical-align: middle;\n",
       "    }\n",
       "\n",
       "    .dataframe tbody tr th {\n",
       "        vertical-align: top;\n",
       "    }\n",
       "\n",
       "    .dataframe thead th {\n",
       "        text-align: right;\n",
       "    }\n",
       "</style>\n",
       "<table border=\"1\" class=\"dataframe\">\n",
       "  <thead>\n",
       "    <tr style=\"text-align: right;\">\n",
       "      <th></th>\n",
       "      <th>PassengerId</th>\n",
       "      <th>Survived</th>\n",
       "      <th>Pclass</th>\n",
       "      <th>Name</th>\n",
       "      <th>Sex</th>\n",
       "      <th>Age</th>\n",
       "      <th>SibSp</th>\n",
       "      <th>Parch</th>\n",
       "      <th>Ticket</th>\n",
       "      <th>Fare</th>\n",
       "      <th>Cabin</th>\n",
       "      <th>Embarked</th>\n",
       "    </tr>\n",
       "  </thead>\n",
       "  <tbody>\n",
       "    <tr>\n",
       "      <td>count</td>\n",
       "      <td>891.000000</td>\n",
       "      <td>891.000000</td>\n",
       "      <td>891.000000</td>\n",
       "      <td>891</td>\n",
       "      <td>891</td>\n",
       "      <td>714.000000</td>\n",
       "      <td>891.000000</td>\n",
       "      <td>891.000000</td>\n",
       "      <td>891</td>\n",
       "      <td>891.000000</td>\n",
       "      <td>204</td>\n",
       "      <td>889</td>\n",
       "    </tr>\n",
       "    <tr>\n",
       "      <td>unique</td>\n",
       "      <td>NaN</td>\n",
       "      <td>NaN</td>\n",
       "      <td>NaN</td>\n",
       "      <td>891</td>\n",
       "      <td>2</td>\n",
       "      <td>NaN</td>\n",
       "      <td>NaN</td>\n",
       "      <td>NaN</td>\n",
       "      <td>681</td>\n",
       "      <td>NaN</td>\n",
       "      <td>147</td>\n",
       "      <td>3</td>\n",
       "    </tr>\n",
       "    <tr>\n",
       "      <td>top</td>\n",
       "      <td>NaN</td>\n",
       "      <td>NaN</td>\n",
       "      <td>NaN</td>\n",
       "      <td>Andersson, Miss. Erna Alexandra</td>\n",
       "      <td>male</td>\n",
       "      <td>NaN</td>\n",
       "      <td>NaN</td>\n",
       "      <td>NaN</td>\n",
       "      <td>CA. 2343</td>\n",
       "      <td>NaN</td>\n",
       "      <td>B96 B98</td>\n",
       "      <td>S</td>\n",
       "    </tr>\n",
       "    <tr>\n",
       "      <td>freq</td>\n",
       "      <td>NaN</td>\n",
       "      <td>NaN</td>\n",
       "      <td>NaN</td>\n",
       "      <td>1</td>\n",
       "      <td>577</td>\n",
       "      <td>NaN</td>\n",
       "      <td>NaN</td>\n",
       "      <td>NaN</td>\n",
       "      <td>7</td>\n",
       "      <td>NaN</td>\n",
       "      <td>4</td>\n",
       "      <td>644</td>\n",
       "    </tr>\n",
       "    <tr>\n",
       "      <td>mean</td>\n",
       "      <td>446.000000</td>\n",
       "      <td>0.383838</td>\n",
       "      <td>2.308642</td>\n",
       "      <td>NaN</td>\n",
       "      <td>NaN</td>\n",
       "      <td>29.699118</td>\n",
       "      <td>0.523008</td>\n",
       "      <td>0.381594</td>\n",
       "      <td>NaN</td>\n",
       "      <td>32.204208</td>\n",
       "      <td>NaN</td>\n",
       "      <td>NaN</td>\n",
       "    </tr>\n",
       "    <tr>\n",
       "      <td>std</td>\n",
       "      <td>257.353842</td>\n",
       "      <td>0.486592</td>\n",
       "      <td>0.836071</td>\n",
       "      <td>NaN</td>\n",
       "      <td>NaN</td>\n",
       "      <td>14.526497</td>\n",
       "      <td>1.102743</td>\n",
       "      <td>0.806057</td>\n",
       "      <td>NaN</td>\n",
       "      <td>49.693429</td>\n",
       "      <td>NaN</td>\n",
       "      <td>NaN</td>\n",
       "    </tr>\n",
       "    <tr>\n",
       "      <td>min</td>\n",
       "      <td>1.000000</td>\n",
       "      <td>0.000000</td>\n",
       "      <td>1.000000</td>\n",
       "      <td>NaN</td>\n",
       "      <td>NaN</td>\n",
       "      <td>0.420000</td>\n",
       "      <td>0.000000</td>\n",
       "      <td>0.000000</td>\n",
       "      <td>NaN</td>\n",
       "      <td>0.000000</td>\n",
       "      <td>NaN</td>\n",
       "      <td>NaN</td>\n",
       "    </tr>\n",
       "    <tr>\n",
       "      <td>25%</td>\n",
       "      <td>223.500000</td>\n",
       "      <td>0.000000</td>\n",
       "      <td>2.000000</td>\n",
       "      <td>NaN</td>\n",
       "      <td>NaN</td>\n",
       "      <td>20.125000</td>\n",
       "      <td>0.000000</td>\n",
       "      <td>0.000000</td>\n",
       "      <td>NaN</td>\n",
       "      <td>7.910400</td>\n",
       "      <td>NaN</td>\n",
       "      <td>NaN</td>\n",
       "    </tr>\n",
       "    <tr>\n",
       "      <td>50%</td>\n",
       "      <td>446.000000</td>\n",
       "      <td>0.000000</td>\n",
       "      <td>3.000000</td>\n",
       "      <td>NaN</td>\n",
       "      <td>NaN</td>\n",
       "      <td>28.000000</td>\n",
       "      <td>0.000000</td>\n",
       "      <td>0.000000</td>\n",
       "      <td>NaN</td>\n",
       "      <td>14.454200</td>\n",
       "      <td>NaN</td>\n",
       "      <td>NaN</td>\n",
       "    </tr>\n",
       "    <tr>\n",
       "      <td>75%</td>\n",
       "      <td>668.500000</td>\n",
       "      <td>1.000000</td>\n",
       "      <td>3.000000</td>\n",
       "      <td>NaN</td>\n",
       "      <td>NaN</td>\n",
       "      <td>38.000000</td>\n",
       "      <td>1.000000</td>\n",
       "      <td>0.000000</td>\n",
       "      <td>NaN</td>\n",
       "      <td>31.000000</td>\n",
       "      <td>NaN</td>\n",
       "      <td>NaN</td>\n",
       "    </tr>\n",
       "    <tr>\n",
       "      <td>max</td>\n",
       "      <td>891.000000</td>\n",
       "      <td>1.000000</td>\n",
       "      <td>3.000000</td>\n",
       "      <td>NaN</td>\n",
       "      <td>NaN</td>\n",
       "      <td>80.000000</td>\n",
       "      <td>8.000000</td>\n",
       "      <td>6.000000</td>\n",
       "      <td>NaN</td>\n",
       "      <td>512.329200</td>\n",
       "      <td>NaN</td>\n",
       "      <td>NaN</td>\n",
       "    </tr>\n",
       "  </tbody>\n",
       "</table>\n",
       "</div>"
      ],
      "text/plain": [
       "        PassengerId    Survived      Pclass                             Name  \\\n",
       "count    891.000000  891.000000  891.000000                              891   \n",
       "unique          NaN         NaN         NaN                              891   \n",
       "top             NaN         NaN         NaN  Andersson, Miss. Erna Alexandra   \n",
       "freq            NaN         NaN         NaN                                1   \n",
       "mean     446.000000    0.383838    2.308642                              NaN   \n",
       "std      257.353842    0.486592    0.836071                              NaN   \n",
       "min        1.000000    0.000000    1.000000                              NaN   \n",
       "25%      223.500000    0.000000    2.000000                              NaN   \n",
       "50%      446.000000    0.000000    3.000000                              NaN   \n",
       "75%      668.500000    1.000000    3.000000                              NaN   \n",
       "max      891.000000    1.000000    3.000000                              NaN   \n",
       "\n",
       "         Sex         Age       SibSp       Parch    Ticket        Fare  \\\n",
       "count    891  714.000000  891.000000  891.000000       891  891.000000   \n",
       "unique     2         NaN         NaN         NaN       681         NaN   \n",
       "top     male         NaN         NaN         NaN  CA. 2343         NaN   \n",
       "freq     577         NaN         NaN         NaN         7         NaN   \n",
       "mean     NaN   29.699118    0.523008    0.381594       NaN   32.204208   \n",
       "std      NaN   14.526497    1.102743    0.806057       NaN   49.693429   \n",
       "min      NaN    0.420000    0.000000    0.000000       NaN    0.000000   \n",
       "25%      NaN   20.125000    0.000000    0.000000       NaN    7.910400   \n",
       "50%      NaN   28.000000    0.000000    0.000000       NaN   14.454200   \n",
       "75%      NaN   38.000000    1.000000    0.000000       NaN   31.000000   \n",
       "max      NaN   80.000000    8.000000    6.000000       NaN  512.329200   \n",
       "\n",
       "          Cabin Embarked  \n",
       "count       204      889  \n",
       "unique      147        3  \n",
       "top     B96 B98        S  \n",
       "freq          4      644  \n",
       "mean        NaN      NaN  \n",
       "std         NaN      NaN  \n",
       "min         NaN      NaN  \n",
       "25%         NaN      NaN  \n",
       "50%         NaN      NaN  \n",
       "75%         NaN      NaN  \n",
       "max         NaN      NaN  "
      ]
     },
     "execution_count": 5,
     "metadata": {},
     "output_type": "execute_result"
    }
   ],
   "source": [
    "data.describe(include=\"all\")"
   ]
  },
  {
   "cell_type": "code",
   "execution_count": 6,
   "metadata": {},
   "outputs": [
    {
     "name": "stdout",
     "output_type": "stream",
     "text": [
      "<class 'pandas.core.frame.DataFrame'>\n",
      "RangeIndex: 891 entries, 0 to 890\n",
      "Data columns (total 12 columns):\n",
      "PassengerId    891 non-null int64\n",
      "Survived       891 non-null int64\n",
      "Pclass         891 non-null int64\n",
      "Name           891 non-null object\n",
      "Sex            891 non-null object\n",
      "Age            714 non-null float64\n",
      "SibSp          891 non-null int64\n",
      "Parch          891 non-null int64\n",
      "Ticket         891 non-null object\n",
      "Fare           891 non-null float64\n",
      "Cabin          204 non-null object\n",
      "Embarked       889 non-null object\n",
      "dtypes: float64(2), int64(5), object(5)\n",
      "memory usage: 83.7+ KB\n"
     ]
    }
   ],
   "source": [
    "data.info()"
   ]
  },
  {
   "cell_type": "code",
   "execution_count": 7,
   "metadata": {},
   "outputs": [
    {
     "data": {
      "text/plain": [
       "0    549\n",
       "1    342\n",
       "Name: Survived, dtype: int64"
      ]
     },
     "execution_count": 7,
     "metadata": {},
     "output_type": "execute_result"
    }
   ],
   "source": [
    "data[\"Survived\"].value_counts()"
   ]
  },
  {
   "cell_type": "code",
   "execution_count": 8,
   "metadata": {},
   "outputs": [
    {
     "data": {
      "text/plain": [
       "PassengerId      0\n",
       "Survived         0\n",
       "Pclass           0\n",
       "Name             0\n",
       "Sex              0\n",
       "Age            177\n",
       "SibSp            0\n",
       "Parch            0\n",
       "Ticket           0\n",
       "Fare             0\n",
       "Cabin          687\n",
       "Embarked         2\n",
       "dtype: int64"
      ]
     },
     "execution_count": 8,
     "metadata": {},
     "output_type": "execute_result"
    }
   ],
   "source": [
    "data.isnull().sum()"
   ]
  },
  {
   "cell_type": "code",
   "execution_count": null,
   "metadata": {},
   "outputs": [],
   "source": []
  },
  {
   "cell_type": "code",
   "execution_count": 9,
   "metadata": {},
   "outputs": [
    {
     "data": {
      "text/plain": [
       "(7.0, 0.0)"
      ]
     },
     "execution_count": 9,
     "metadata": {},
     "output_type": "execute_result"
    },
    {
     "data": {
      "image/png": "[encoded data removed]",
      "text/plain": [
       "<Figure size 720x720 with 2 Axes>"
      ]
     },
     "metadata": {
      "needs_background": "light"
     },
     "output_type": "display_data"
    }
   ],
   "source": [
    "corr = data.corr()\n",
    "cmap = sb.diverging_palette(220, 10, as_cmap=True)\n",
    "f, ax = plt.subplots(figsize=(10, 10))\n",
    "sb.heatmap(corr, cmap=cmap,square=True, annot=True, ax=ax)\n",
    "bottom, top = ax.get_ylim()\n",
    "ax.set_ylim(bottom + 0.5, top - 0.5)"
   ]
  },
  {
   "cell_type": "markdown",
   "metadata": {},
   "source": [
    "## Data Pre-Processing "
   ]
  },
  {
   "cell_type": "code",
   "execution_count": 10,
   "metadata": {},
   "outputs": [
    {
     "data": {
      "text/plain": [
       "PassengerId      0\n",
       "Survived         0\n",
       "Pclass           0\n",
       "Name             0\n",
       "Sex              0\n",
       "Age            177\n",
       "SibSp            0\n",
       "Parch            0\n",
       "Ticket           0\n",
       "Fare             0\n",
       "Cabin          687\n",
       "Embarked         2\n",
       "dtype: int64"
      ]
     },
     "execution_count": 10,
     "metadata": {},
     "output_type": "execute_result"
    }
   ],
   "source": [
    "data.isnull().sum()"
   ]
  },
  {
   "cell_type": "code",
   "execution_count": 11,
   "metadata": {},
   "outputs": [],
   "source": [
    "data[\"Age\"].fillna(data[\"Age\"].mean(), inplace=True)\n",
    "\n",
    "data[\"Embarked\"].fillna(data[\"Embarked\"].mode()[0], inplace=True)\n",
    "\n",
    "data[\"Cabin\"].fillna(\"missing\", inplace=True) #not dropping for certain reason"
   ]
  },
  {
   "cell_type": "code",
   "execution_count": 12,
   "metadata": {},
   "outputs": [
    {
     "data": {
      "text/html": [
       "<div>\n",
       "<style scoped>\n",
       "    .dataframe tbody tr th:only-of-type {\n",
       "        vertical-align: middle;\n",
       "    }\n",
       "\n",
       "    .dataframe tbody tr th {\n",
       "        vertical-align: top;\n",
       "    }\n",
       "\n",
       "    .dataframe thead th {\n",
       "        text-align: right;\n",
       "    }\n",
       "</style>\n",
       "<table border=\"1\" class=\"dataframe\">\n",
       "  <thead>\n",
       "    <tr style=\"text-align: right;\">\n",
       "      <th></th>\n",
       "      <th>PassengerId</th>\n",
       "      <th>Survived</th>\n",
       "      <th>Pclass</th>\n",
       "      <th>Name</th>\n",
       "      <th>Sex</th>\n",
       "      <th>Age</th>\n",
       "      <th>SibSp</th>\n",
       "      <th>Parch</th>\n",
       "      <th>Ticket</th>\n",
       "      <th>Fare</th>\n",
       "      <th>Cabin</th>\n",
       "      <th>Embarked</th>\n",
       "    </tr>\n",
       "  </thead>\n",
       "  <tbody>\n",
       "    <tr>\n",
       "      <td>0</td>\n",
       "      <td>1</td>\n",
       "      <td>0</td>\n",
       "      <td>3</td>\n",
       "      <td>Braund, Mr. Owen Harris</td>\n",
       "      <td>male</td>\n",
       "      <td>22.0</td>\n",
       "      <td>1</td>\n",
       "      <td>0</td>\n",
       "      <td>A/5 21171</td>\n",
       "      <td>7.2500</td>\n",
       "      <td>missing</td>\n",
       "      <td>S</td>\n",
       "    </tr>\n",
       "    <tr>\n",
       "      <td>1</td>\n",
       "      <td>2</td>\n",
       "      <td>1</td>\n",
       "      <td>1</td>\n",
       "      <td>Cumings, Mrs. John Bradley (Florence Briggs Th...</td>\n",
       "      <td>female</td>\n",
       "      <td>38.0</td>\n",
       "      <td>1</td>\n",
       "      <td>0</td>\n",
       "      <td>PC 17599</td>\n",
       "      <td>71.2833</td>\n",
       "      <td>C85</td>\n",
       "      <td>C</td>\n",
       "    </tr>\n",
       "    <tr>\n",
       "      <td>2</td>\n",
       "      <td>3</td>\n",
       "      <td>1</td>\n",
       "      <td>3</td>\n",
       "      <td>Heikkinen, Miss. Laina</td>\n",
       "      <td>female</td>\n",
       "      <td>26.0</td>\n",
       "      <td>0</td>\n",
       "      <td>0</td>\n",
       "      <td>STON/O2. 3101282</td>\n",
       "      <td>7.9250</td>\n",
       "      <td>missing</td>\n",
       "      <td>S</td>\n",
       "    </tr>\n",
       "    <tr>\n",
       "      <td>3</td>\n",
       "      <td>4</td>\n",
       "      <td>1</td>\n",
       "      <td>1</td>\n",
       "      <td>Futrelle, Mrs. Jacques Heath (Lily May Peel)</td>\n",
       "      <td>female</td>\n",
       "      <td>35.0</td>\n",
       "      <td>1</td>\n",
       "      <td>0</td>\n",
       "      <td>113803</td>\n",
       "      <td>53.1000</td>\n",
       "      <td>C123</td>\n",
       "      <td>S</td>\n",
       "    </tr>\n",
       "    <tr>\n",
       "      <td>4</td>\n",
       "      <td>5</td>\n",
       "      <td>0</td>\n",
       "      <td>3</td>\n",
       "      <td>Allen, Mr. William Henry</td>\n",
       "      <td>male</td>\n",
       "      <td>35.0</td>\n",
       "      <td>0</td>\n",
       "      <td>0</td>\n",
       "      <td>373450</td>\n",
       "      <td>8.0500</td>\n",
       "      <td>missing</td>\n",
       "      <td>S</td>\n",
       "    </tr>\n",
       "  </tbody>\n",
       "</table>\n",
       "</div>"
      ],
      "text/plain": [
       "   PassengerId  Survived  Pclass  \\\n",
       "0            1         0       3   \n",
       "1            2         1       1   \n",
       "2            3         1       3   \n",
       "3            4         1       1   \n",
       "4            5         0       3   \n",
       "\n",
       "                                                Name     Sex   Age  SibSp  \\\n",
       "0                            Braund, Mr. Owen Harris    male  22.0      1   \n",
       "1  Cumings, Mrs. John Bradley (Florence Briggs Th...  female  38.0      1   \n",
       "2                             Heikkinen, Miss. Laina  female  26.0      0   \n",
       "3       Futrelle, Mrs. Jacques Heath (Lily May Peel)  female  35.0      1   \n",
       "4                           Allen, Mr. William Henry    male  35.0      0   \n",
       "\n",
       "   Parch            Ticket     Fare    Cabin Embarked  \n",
       "0      0         A/5 21171   7.2500  missing        S  \n",
       "1      0          PC 17599  71.2833      C85        C  \n",
       "2      0  STON/O2. 3101282   7.9250  missing        S  \n",
       "3      0            113803  53.1000     C123        S  \n",
       "4      0            373450   8.0500  missing        S  "
      ]
     },
     "execution_count": 12,
     "metadata": {},
     "output_type": "execute_result"
    }
   ],
   "source": [
    "data.head()"
   ]
  },
  {
   "cell_type": "code",
   "execution_count": 13,
   "metadata": {},
   "outputs": [
    {
     "data": {
      "text/plain": [
       "count    891.000000\n",
       "mean      29.699118\n",
       "std       13.002015\n",
       "min        0.420000\n",
       "25%       22.000000\n",
       "50%       29.699118\n",
       "75%       35.000000\n",
       "max       80.000000\n",
       "Name: Age, dtype: float64"
      ]
     },
     "execution_count": 13,
     "metadata": {},
     "output_type": "execute_result"
    }
   ],
   "source": [
    "data[\"Age\"].describe()"
   ]
  },
  {
   "cell_type": "code",
   "execution_count": 14,
   "metadata": {},
   "outputs": [],
   "source": [
    "data[\"Age_bin\"] = pd.cut(data[\"Age\"],[0,12,19,30,45,100],labels=[\"child\",\"teen\",\"early working\",\"primary working\",\"last working\"])"
   ]
  },
  {
   "cell_type": "code",
   "execution_count": 15,
   "metadata": {},
   "outputs": [
    {
     "data": {
      "text/plain": [
       "early working      422\n",
       "primary working    202\n",
       "last working       103\n",
       "teen                95\n",
       "child               69\n",
       "Name: Age_bin, dtype: int64"
      ]
     },
     "execution_count": 15,
     "metadata": {},
     "output_type": "execute_result"
    }
   ],
   "source": [
    "data.Age_bin.value_counts()"
   ]
  },
  {
   "cell_type": "code",
   "execution_count": 16,
   "metadata": {},
   "outputs": [],
   "source": [
    "data.drop(columns=[\"Age\"], axis=1, inplace=True)"
   ]
  },
  {
   "cell_type": "code",
   "execution_count": 17,
   "metadata": {},
   "outputs": [
    {
     "data": {
      "text/plain": [
       "count    891.000000\n",
       "mean      32.204208\n",
       "std       49.693429\n",
       "min        0.000000\n",
       "25%        7.910400\n",
       "50%       14.454200\n",
       "75%       31.000000\n",
       "max      512.329200\n",
       "Name: Fare, dtype: float64"
      ]
     },
     "execution_count": 17,
     "metadata": {},
     "output_type": "execute_result"
    }
   ],
   "source": [
    "data[\"Fare\"].describe()"
   ]
  },
  {
   "cell_type": "code",
   "execution_count": 18,
   "metadata": {},
   "outputs": [
    {
     "data": {
      "text/plain": [
       "(241, 12)"
      ]
     },
     "execution_count": 18,
     "metadata": {},
     "output_type": "execute_result"
    }
   ],
   "source": [
    "data[(data[\"Fare\"]>=0) & (data[\"Fare\"]<8)].shape"
   ]
  },
  {
   "cell_type": "code",
   "execution_count": 19,
   "metadata": {},
   "outputs": [
    {
     "data": {
      "text/plain": [
       "(216, 12)"
      ]
     },
     "execution_count": 19,
     "metadata": {},
     "output_type": "execute_result"
    }
   ],
   "source": [
    "data[(data[\"Fare\"]>=8) & (data[\"Fare\"]<15)].shape"
   ]
  },
  {
   "cell_type": "code",
   "execution_count": 20,
   "metadata": {},
   "outputs": [
    {
     "data": {
      "text/plain": [
       "(194, 12)"
      ]
     },
     "execution_count": 20,
     "metadata": {},
     "output_type": "execute_result"
    }
   ],
   "source": [
    "data[(data[\"Fare\"]>=15) & (data[\"Fare\"]<30)].shape"
   ]
  },
  {
   "cell_type": "code",
   "execution_count": 21,
   "metadata": {},
   "outputs": [
    {
     "data": {
      "text/plain": [
       "(118, 12)"
      ]
     },
     "execution_count": 21,
     "metadata": {},
     "output_type": "execute_result"
    }
   ],
   "source": [
    "data[(data[\"Fare\"]>=30) & (data[\"Fare\"]<60)].shape"
   ]
  },
  {
   "cell_type": "code",
   "execution_count": 22,
   "metadata": {},
   "outputs": [
    {
     "data": {
      "text/plain": [
       "(122, 12)"
      ]
     },
     "execution_count": 22,
     "metadata": {},
     "output_type": "execute_result"
    }
   ],
   "source": [
    "data[(data[\"Fare\"]>=60) & (data[\"Fare\"]<1000)].shape"
   ]
  },
  {
   "cell_type": "code",
   "execution_count": 23,
   "metadata": {},
   "outputs": [],
   "source": [
    "data[\"Fare_bin\"] = pd.cut(data[\"Fare\"],[0,7,14,29,59,1000],labels=[\"First\",\"Second\",\"Third\",\"Fourth\",\"Fifth\"])"
   ]
  },
  {
   "cell_type": "code",
   "execution_count": 24,
   "metadata": {},
   "outputs": [],
   "source": [
    "data.drop(columns=[\"Fare\"], axis=1, inplace=True)"
   ]
  },
  {
   "cell_type": "markdown",
   "metadata": {},
   "source": [
    "## Data Transformation"
   ]
  },
  {
   "cell_type": "code",
   "execution_count": 25,
   "metadata": {},
   "outputs": [],
   "source": [
    "data[\"Name_salutation\"] = data[\"Name\"].str.extract(' ([A-Za-z]+)\\.')\n",
    "data[\"Deck\"] = data[\"Cabin\"].str.extract('([A-Z])')\n",
    "data.drop(columns=[\"Name\",\"Cabin\"], axis=1,inplace=True)"
   ]
  },
  {
   "cell_type": "code",
   "execution_count": 26,
   "metadata": {},
   "outputs": [
    {
     "data": {
      "text/plain": [
       "Mr          517\n",
       "Miss        182\n",
       "Mrs         125\n",
       "Master       40\n",
       "Dr            7\n",
       "Rev           6\n",
       "Major         2\n",
       "Col           2\n",
       "Mlle          2\n",
       "Mme           1\n",
       "Countess      1\n",
       "Capt          1\n",
       "Ms            1\n",
       "Sir           1\n",
       "Don           1\n",
       "Jonkheer      1\n",
       "Lady          1\n",
       "Name: Name_salutation, dtype: int64"
      ]
     },
     "execution_count": 26,
     "metadata": {},
     "output_type": "execute_result"
    }
   ],
   "source": [
    "data.Name_salutation.value_counts()"
   ]
  },
  {
   "cell_type": "code",
   "execution_count": 27,
   "metadata": {},
   "outputs": [],
   "source": [
    "data[\"Deck\"].fillna(\"Z\", inplace=True)"
   ]
  },
  {
   "cell_type": "code",
   "execution_count": 28,
   "metadata": {},
   "outputs": [],
   "source": [
    "data[\"Name_salutation\"] = data[\"Name_salutation\"].apply(lambda x: \"Others\" if x not in [\"Mr\",\"Mrs\",\"Miss\",\"Master\"] else x)"
   ]
  },
  {
   "cell_type": "code",
   "execution_count": 29,
   "metadata": {},
   "outputs": [
    {
     "data": {
      "text/html": [
       "<div>\n",
       "<style scoped>\n",
       "    .dataframe tbody tr th:only-of-type {\n",
       "        vertical-align: middle;\n",
       "    }\n",
       "\n",
       "    .dataframe tbody tr th {\n",
       "        vertical-align: top;\n",
       "    }\n",
       "\n",
       "    .dataframe thead th {\n",
       "        text-align: right;\n",
       "    }\n",
       "</style>\n",
       "<table border=\"1\" class=\"dataframe\">\n",
       "  <thead>\n",
       "    <tr style=\"text-align: right;\">\n",
       "      <th></th>\n",
       "      <th>PassengerId</th>\n",
       "      <th>Survived</th>\n",
       "      <th>Pclass</th>\n",
       "      <th>Sex</th>\n",
       "      <th>SibSp</th>\n",
       "      <th>Parch</th>\n",
       "      <th>Ticket</th>\n",
       "      <th>Embarked</th>\n",
       "      <th>Age_bin</th>\n",
       "      <th>Fare_bin</th>\n",
       "      <th>Name_salutation</th>\n",
       "      <th>Deck</th>\n",
       "    </tr>\n",
       "  </thead>\n",
       "  <tbody>\n",
       "    <tr>\n",
       "      <td>0</td>\n",
       "      <td>1</td>\n",
       "      <td>0</td>\n",
       "      <td>3</td>\n",
       "      <td>male</td>\n",
       "      <td>1</td>\n",
       "      <td>0</td>\n",
       "      <td>A/5 21171</td>\n",
       "      <td>S</td>\n",
       "      <td>early working</td>\n",
       "      <td>Second</td>\n",
       "      <td>Mr</td>\n",
       "      <td>Z</td>\n",
       "    </tr>\n",
       "    <tr>\n",
       "      <td>1</td>\n",
       "      <td>2</td>\n",
       "      <td>1</td>\n",
       "      <td>1</td>\n",
       "      <td>female</td>\n",
       "      <td>1</td>\n",
       "      <td>0</td>\n",
       "      <td>PC 17599</td>\n",
       "      <td>C</td>\n",
       "      <td>primary working</td>\n",
       "      <td>Fifth</td>\n",
       "      <td>Mrs</td>\n",
       "      <td>C</td>\n",
       "    </tr>\n",
       "    <tr>\n",
       "      <td>2</td>\n",
       "      <td>3</td>\n",
       "      <td>1</td>\n",
       "      <td>3</td>\n",
       "      <td>female</td>\n",
       "      <td>0</td>\n",
       "      <td>0</td>\n",
       "      <td>STON/O2. 3101282</td>\n",
       "      <td>S</td>\n",
       "      <td>early working</td>\n",
       "      <td>Second</td>\n",
       "      <td>Miss</td>\n",
       "      <td>Z</td>\n",
       "    </tr>\n",
       "    <tr>\n",
       "      <td>3</td>\n",
       "      <td>4</td>\n",
       "      <td>1</td>\n",
       "      <td>1</td>\n",
       "      <td>female</td>\n",
       "      <td>1</td>\n",
       "      <td>0</td>\n",
       "      <td>113803</td>\n",
       "      <td>S</td>\n",
       "      <td>primary working</td>\n",
       "      <td>Fourth</td>\n",
       "      <td>Mrs</td>\n",
       "      <td>C</td>\n",
       "    </tr>\n",
       "    <tr>\n",
       "      <td>4</td>\n",
       "      <td>5</td>\n",
       "      <td>0</td>\n",
       "      <td>3</td>\n",
       "      <td>male</td>\n",
       "      <td>0</td>\n",
       "      <td>0</td>\n",
       "      <td>373450</td>\n",
       "      <td>S</td>\n",
       "      <td>primary working</td>\n",
       "      <td>Second</td>\n",
       "      <td>Mr</td>\n",
       "      <td>Z</td>\n",
       "    </tr>\n",
       "  </tbody>\n",
       "</table>\n",
       "</div>"
      ],
      "text/plain": [
       "   PassengerId  Survived  Pclass     Sex  SibSp  Parch            Ticket  \\\n",
       "0            1         0       3    male      1      0         A/5 21171   \n",
       "1            2         1       1  female      1      0          PC 17599   \n",
       "2            3         1       3  female      0      0  STON/O2. 3101282   \n",
       "3            4         1       1  female      1      0            113803   \n",
       "4            5         0       3    male      0      0            373450   \n",
       "\n",
       "  Embarked          Age_bin Fare_bin Name_salutation Deck  \n",
       "0        S    early working   Second              Mr    Z  \n",
       "1        C  primary working    Fifth             Mrs    C  \n",
       "2        S    early working   Second            Miss    Z  \n",
       "3        S  primary working   Fourth             Mrs    C  \n",
       "4        S  primary working   Second              Mr    Z  "
      ]
     },
     "execution_count": 29,
     "metadata": {},
     "output_type": "execute_result"
    }
   ],
   "source": [
    "data.head()"
   ]
  },
  {
   "cell_type": "code",
   "execution_count": 30,
   "metadata": {},
   "outputs": [
    {
     "data": {
      "text/plain": [
       "Mr        517\n",
       "Miss      182\n",
       "Mrs       125\n",
       "Master     40\n",
       "Others     27\n",
       "Name: Name_salutation, dtype: int64"
      ]
     },
     "execution_count": 30,
     "metadata": {},
     "output_type": "execute_result"
    }
   ],
   "source": [
    "data[\"Name_salutation\"].value_counts()"
   ]
  },
  {
   "cell_type": "code",
   "execution_count": 31,
   "metadata": {},
   "outputs": [],
   "source": [
    "data.drop(columns=[\"PassengerId\",\"Ticket\"], axis=1, inplace=True)"
   ]
  },
  {
   "cell_type": "code",
   "execution_count": 32,
   "metadata": {},
   "outputs": [],
   "source": [
    "target = data[\"Survived\"]\n",
    "# data.drop(columns=[\"Survived\"], axis=1, inplace=True)"
   ]
  },
  {
   "cell_type": "code",
   "execution_count": 33,
   "metadata": {},
   "outputs": [],
   "source": [
    "data_orig = data"
   ]
  },
  {
   "cell_type": "code",
   "execution_count": 34,
   "metadata": {},
   "outputs": [
    {
     "data": {
      "text/html": [
       "<div>\n",
       "<style scoped>\n",
       "    .dataframe tbody tr th:only-of-type {\n",
       "        vertical-align: middle;\n",
       "    }\n",
       "\n",
       "    .dataframe tbody tr th {\n",
       "        vertical-align: top;\n",
       "    }\n",
       "\n",
       "    .dataframe thead th {\n",
       "        text-align: right;\n",
       "    }\n",
       "</style>\n",
       "<table border=\"1\" class=\"dataframe\">\n",
       "  <thead>\n",
       "    <tr style=\"text-align: right;\">\n",
       "      <th></th>\n",
       "      <th>Survived</th>\n",
       "      <th>Pclass</th>\n",
       "      <th>Sex</th>\n",
       "      <th>SibSp</th>\n",
       "      <th>Parch</th>\n",
       "      <th>Embarked</th>\n",
       "      <th>Age_bin</th>\n",
       "      <th>Fare_bin</th>\n",
       "      <th>Name_salutation</th>\n",
       "      <th>Deck</th>\n",
       "    </tr>\n",
       "  </thead>\n",
       "  <tbody>\n",
       "    <tr>\n",
       "      <td>0</td>\n",
       "      <td>0</td>\n",
       "      <td>3</td>\n",
       "      <td>male</td>\n",
       "      <td>1</td>\n",
       "      <td>0</td>\n",
       "      <td>S</td>\n",
       "      <td>early working</td>\n",
       "      <td>Second</td>\n",
       "      <td>Mr</td>\n",
       "      <td>Z</td>\n",
       "    </tr>\n",
       "    <tr>\n",
       "      <td>1</td>\n",
       "      <td>1</td>\n",
       "      <td>1</td>\n",
       "      <td>female</td>\n",
       "      <td>1</td>\n",
       "      <td>0</td>\n",
       "      <td>C</td>\n",
       "      <td>primary working</td>\n",
       "      <td>Fifth</td>\n",
       "      <td>Mrs</td>\n",
       "      <td>C</td>\n",
       "    </tr>\n",
       "    <tr>\n",
       "      <td>2</td>\n",
       "      <td>1</td>\n",
       "      <td>3</td>\n",
       "      <td>female</td>\n",
       "      <td>0</td>\n",
       "      <td>0</td>\n",
       "      <td>S</td>\n",
       "      <td>early working</td>\n",
       "      <td>Second</td>\n",
       "      <td>Miss</td>\n",
       "      <td>Z</td>\n",
       "    </tr>\n",
       "    <tr>\n",
       "      <td>3</td>\n",
       "      <td>1</td>\n",
       "      <td>1</td>\n",
       "      <td>female</td>\n",
       "      <td>1</td>\n",
       "      <td>0</td>\n",
       "      <td>S</td>\n",
       "      <td>primary working</td>\n",
       "      <td>Fourth</td>\n",
       "      <td>Mrs</td>\n",
       "      <td>C</td>\n",
       "    </tr>\n",
       "    <tr>\n",
       "      <td>4</td>\n",
       "      <td>0</td>\n",
       "      <td>3</td>\n",
       "      <td>male</td>\n",
       "      <td>0</td>\n",
       "      <td>0</td>\n",
       "      <td>S</td>\n",
       "      <td>primary working</td>\n",
       "      <td>Second</td>\n",
       "      <td>Mr</td>\n",
       "      <td>Z</td>\n",
       "    </tr>\n",
       "    <tr>\n",
       "      <td>...</td>\n",
       "      <td>...</td>\n",
       "      <td>...</td>\n",
       "      <td>...</td>\n",
       "      <td>...</td>\n",
       "      <td>...</td>\n",
       "      <td>...</td>\n",
       "      <td>...</td>\n",
       "      <td>...</td>\n",
       "      <td>...</td>\n",
       "      <td>...</td>\n",
       "    </tr>\n",
       "    <tr>\n",
       "      <td>886</td>\n",
       "      <td>0</td>\n",
       "      <td>2</td>\n",
       "      <td>male</td>\n",
       "      <td>0</td>\n",
       "      <td>0</td>\n",
       "      <td>S</td>\n",
       "      <td>early working</td>\n",
       "      <td>Second</td>\n",
       "      <td>Others</td>\n",
       "      <td>Z</td>\n",
       "    </tr>\n",
       "    <tr>\n",
       "      <td>887</td>\n",
       "      <td>1</td>\n",
       "      <td>1</td>\n",
       "      <td>female</td>\n",
       "      <td>0</td>\n",
       "      <td>0</td>\n",
       "      <td>S</td>\n",
       "      <td>teen</td>\n",
       "      <td>Fourth</td>\n",
       "      <td>Miss</td>\n",
       "      <td>B</td>\n",
       "    </tr>\n",
       "    <tr>\n",
       "      <td>888</td>\n",
       "      <td>0</td>\n",
       "      <td>3</td>\n",
       "      <td>female</td>\n",
       "      <td>1</td>\n",
       "      <td>2</td>\n",
       "      <td>S</td>\n",
       "      <td>early working</td>\n",
       "      <td>Third</td>\n",
       "      <td>Miss</td>\n",
       "      <td>Z</td>\n",
       "    </tr>\n",
       "    <tr>\n",
       "      <td>889</td>\n",
       "      <td>1</td>\n",
       "      <td>1</td>\n",
       "      <td>male</td>\n",
       "      <td>0</td>\n",
       "      <td>0</td>\n",
       "      <td>C</td>\n",
       "      <td>early working</td>\n",
       "      <td>Fourth</td>\n",
       "      <td>Mr</td>\n",
       "      <td>C</td>\n",
       "    </tr>\n",
       "    <tr>\n",
       "      <td>890</td>\n",
       "      <td>0</td>\n",
       "      <td>3</td>\n",
       "      <td>male</td>\n",
       "      <td>0</td>\n",
       "      <td>0</td>\n",
       "      <td>Q</td>\n",
       "      <td>primary working</td>\n",
       "      <td>Second</td>\n",
       "      <td>Mr</td>\n",
       "      <td>Z</td>\n",
       "    </tr>\n",
       "  </tbody>\n",
       "</table>\n",
       "<p>891 rows × 10 columns</p>\n",
       "</div>"
      ],
      "text/plain": [
       "     Survived  Pclass     Sex  SibSp  Parch Embarked          Age_bin  \\\n",
       "0           0       3    male      1      0        S    early working   \n",
       "1           1       1  female      1      0        C  primary working   \n",
       "2           1       3  female      0      0        S    early working   \n",
       "3           1       1  female      1      0        S  primary working   \n",
       "4           0       3    male      0      0        S  primary working   \n",
       "..        ...     ...     ...    ...    ...      ...              ...   \n",
       "886         0       2    male      0      0        S    early working   \n",
       "887         1       1  female      0      0        S             teen   \n",
       "888         0       3  female      1      2        S    early working   \n",
       "889         1       1    male      0      0        C    early working   \n",
       "890         0       3    male      0      0        Q  primary working   \n",
       "\n",
       "    Fare_bin Name_salutation Deck  \n",
       "0     Second              Mr    Z  \n",
       "1      Fifth             Mrs    C  \n",
       "2     Second            Miss    Z  \n",
       "3     Fourth             Mrs    C  \n",
       "4     Second              Mr    Z  \n",
       "..       ...             ...  ...  \n",
       "886   Second          Others    Z  \n",
       "887   Fourth            Miss    B  \n",
       "888    Third            Miss    Z  \n",
       "889   Fourth              Mr    C  \n",
       "890   Second              Mr    Z  \n",
       "\n",
       "[891 rows x 10 columns]"
      ]
     },
     "execution_count": 34,
     "metadata": {},
     "output_type": "execute_result"
    }
   ],
   "source": [
    "data_orig"
   ]
  },
  {
   "cell_type": "markdown",
   "metadata": {},
   "source": [
    "## Feature Selection "
   ]
  },
  {
   "cell_type": "code",
   "execution_count": 35,
   "metadata": {},
   "outputs": [],
   "source": [
    "def find_woe_iv(data,column,target):\n",
    "    woe_list = []\n",
    "    \n",
    "    for unique_value in data[column].unique(): \n",
    "        if(pd.isnull(unique_value)):\n",
    "            continue\n",
    "        req_dict = {\n",
    "            \"Val\" : unique_value,\n",
    "            \"Event\": data[(data[column] == unique_value) & (data[target]==1)].count()[column],\n",
    "            \"Non-Event\": data[(data[column] == unique_value) & (data[target]==0)].count()[column]\n",
    "        }\n",
    "        woe_list.append(req_dict)\n",
    "    \n",
    "    df = pd.DataFrame(woe_list)\n",
    "    \n",
    "    df[\"Event_Distr\"] = df[\"Event\"] / df[\"Event\"].sum()\n",
    "    df[\"Non-Event_Distr\"] = df[\"Non-Event\"] / df[\"Non-Event\"].sum()\n",
    "    df[\"WOE\"] = np.log(df[\"Event_Distr\"] / df[\"Non-Event_Distr\"])\n",
    "    df = df.replace({'WOE': {np.inf: 0, -np.inf: 0}})\n",
    "    df[\"IV\"] = (df[\"Event_Distr\"] - df[\"Non-Event_Distr\"]) * df[\"WOE\"]\n",
    "    iv = df[\"IV\"].sum()\n",
    "    \n",
    "    \n",
    "    return df, iv\n",
    "    "
   ]
  },
  {
   "cell_type": "code",
   "execution_count": 36,
   "metadata": {},
   "outputs": [],
   "source": [
    "a,b = find_woe_iv(data,\"Embarked\",\"Survived\")"
   ]
  },
  {
   "cell_type": "code",
   "execution_count": 37,
   "metadata": {},
   "outputs": [
    {
     "data": {
      "text/html": [
       "<div>\n",
       "<style scoped>\n",
       "    .dataframe tbody tr th:only-of-type {\n",
       "        vertical-align: middle;\n",
       "    }\n",
       "\n",
       "    .dataframe tbody tr th {\n",
       "        vertical-align: top;\n",
       "    }\n",
       "\n",
       "    .dataframe thead th {\n",
       "        text-align: right;\n",
       "    }\n",
       "</style>\n",
       "<table border=\"1\" class=\"dataframe\">\n",
       "  <thead>\n",
       "    <tr style=\"text-align: right;\">\n",
       "      <th></th>\n",
       "      <th>Val</th>\n",
       "      <th>Event</th>\n",
       "      <th>Non-Event</th>\n",
       "      <th>Event_Distr</th>\n",
       "      <th>Non-Event_Distr</th>\n",
       "      <th>WOE</th>\n",
       "      <th>IV</th>\n",
       "    </tr>\n",
       "  </thead>\n",
       "  <tbody>\n",
       "    <tr>\n",
       "      <td>0</td>\n",
       "      <td>S</td>\n",
       "      <td>219</td>\n",
       "      <td>427</td>\n",
       "      <td>0.640351</td>\n",
       "      <td>0.777778</td>\n",
       "      <td>-0.194425</td>\n",
       "      <td>0.026719</td>\n",
       "    </tr>\n",
       "    <tr>\n",
       "      <td>1</td>\n",
       "      <td>C</td>\n",
       "      <td>93</td>\n",
       "      <td>75</td>\n",
       "      <td>0.271930</td>\n",
       "      <td>0.136612</td>\n",
       "      <td>0.688399</td>\n",
       "      <td>0.093153</td>\n",
       "    </tr>\n",
       "    <tr>\n",
       "      <td>2</td>\n",
       "      <td>Q</td>\n",
       "      <td>30</td>\n",
       "      <td>47</td>\n",
       "      <td>0.087719</td>\n",
       "      <td>0.085610</td>\n",
       "      <td>0.024337</td>\n",
       "      <td>0.000051</td>\n",
       "    </tr>\n",
       "  </tbody>\n",
       "</table>\n",
       "</div>"
      ],
      "text/plain": [
       "  Val  Event  Non-Event  Event_Distr  Non-Event_Distr       WOE        IV\n",
       "0   S    219        427     0.640351         0.777778 -0.194425  0.026719\n",
       "1   C     93         75     0.271930         0.136612  0.688399  0.093153\n",
       "2   Q     30         47     0.087719         0.085610  0.024337  0.000051"
      ]
     },
     "execution_count": 37,
     "metadata": {},
     "output_type": "execute_result"
    }
   ],
   "source": [
    "a"
   ]
  },
  {
   "cell_type": "code",
   "execution_count": 38,
   "metadata": {},
   "outputs": [
    {
     "name": "stdout",
     "output_type": "stream",
     "text": [
      "WoE and IV for column: Pclass\n",
      "   Val  Event  Non-Event  Event_Distr  Non-Event_Distr       WOE        IV\n",
      "0    3    119        372     0.347953         0.677596 -0.666483  0.219701\n",
      "1    1    136         80     0.397661         0.145719  1.003916  0.252928\n",
      "2    2     87         97     0.254386         0.176685  0.364485  0.028321\n",
      "IV : 0.501\n",
      "\n",
      "\n",
      "WoE and IV for column: Sex\n",
      "      Val  Event  Non-Event  Event_Distr  Non-Event_Distr       WOE        IV\n",
      "0    male    109        468     0.318713         0.852459 -0.983833  0.525116\n",
      "1  female    233         81     0.681287         0.147541  1.529877  0.816565\n",
      "IV : 1.342\n",
      "\n",
      "\n",
      "WoE and IV for column: SibSp\n",
      "   Val  Event  Non-Event  Event_Distr  Non-Event_Distr       WOE        IV\n",
      "0    1    112         97     0.327485         0.176685  0.617076  0.093055\n",
      "1    0    210        398     0.614035         0.724954 -0.166057  0.018419\n",
      "2    3      4         12     0.011696         0.021858 -0.625325  0.006355\n",
      "3    4      3         15     0.008772         0.027322 -1.136150  0.021076\n",
      "4    2     13         15     0.038012         0.027322  0.330187  0.003529\n",
      "5    5      0          5     0.000000         0.009107  0.000000 -0.000000\n",
      "6    8      0          7     0.000000         0.012750  0.000000 -0.000000\n",
      "IV : 0.142\n",
      "\n",
      "\n",
      "WoE and IV for column: Parch\n",
      "   Val  Event  Non-Event  Event_Distr  Non-Event_Distr       WOE        IV\n",
      "0    0    233        445     0.681287         0.810565 -0.173748  0.022462\n",
      "1    1     65         53     0.190058         0.096539  0.677383  0.063348\n",
      "2    2     40         40     0.116959         0.072860  0.473288  0.020872\n",
      "3    5      1          4     0.002924         0.007286 -0.913007  0.003983\n",
      "4    3      3          2     0.008772         0.003643  0.878753  0.004507\n",
      "5    4      0          4     0.000000         0.007286  0.000000 -0.000000\n",
      "6    6      0          1     0.000000         0.001821  0.000000 -0.000000\n",
      "IV : 0.115\n",
      "\n",
      "\n",
      "WoE and IV for column: Embarked\n",
      "  Val  Event  Non-Event  Event_Distr  Non-Event_Distr       WOE        IV\n",
      "0   S    219        427     0.640351         0.777778 -0.194425  0.026719\n",
      "1   C     93         75     0.271930         0.136612  0.688399  0.093153\n",
      "2   Q     30         47     0.087719         0.085610  0.024337  0.000051\n",
      "IV : 0.12\n",
      "\n",
      "\n",
      "WoE and IV for column: Age_bin\n",
      "               Val  Event  Non-Event  Event_Distr  Non-Event_Distr       WOE  \\\n",
      "0    early working    139        283     0.406433         0.515483 -0.237685   \n",
      "1  primary working     86        116     0.251462         0.211293  0.174045   \n",
      "2     last working     38         65     0.111111         0.118397 -0.063513   \n",
      "3            child     40         29     0.116959         0.052823  0.794871   \n",
      "4             teen     39         56     0.114035         0.102004  0.111498   \n",
      "\n",
      "         IV  \n",
      "0  0.025920  \n",
      "1  0.006991  \n",
      "2  0.000463  \n",
      "3  0.050980  \n",
      "4  0.001341  \n",
      "IV : 0.086\n",
      "\n",
      "\n",
      "WoE and IV for column: Fare_bin\n",
      "      Val  Event  Non-Event  Event_Distr  Non-Event_Distr       WOE        IV\n",
      "0  Second    109        300     0.319648         0.560748 -0.562050  0.135510\n",
      "1   Fifth     83         40     0.243402         0.074766  1.180345  0.199048\n",
      "2  Fourth     59         66     0.173021         0.123364  0.338267  0.016797\n",
      "3   Third     89        117     0.260997         0.218692  0.176847  0.007482\n",
      "4   First      1         12     0.002933         0.022430 -2.034522  0.039668\n",
      "IV : 0.399\n",
      "\n",
      "\n",
      "WoE and IV for column: Name_salutation\n",
      "      Val  Event  Non-Event  Event_Distr  Non-Event_Distr       WOE        IV\n",
      "0      Mr     81        436     0.236842         0.794171 -1.209905  0.674315\n",
      "1     Mrs     99         26     0.289474         0.047359  1.810311  0.438303\n",
      "2    Miss    127         55     0.371345         0.100182  1.310142  0.355262\n",
      "3  Master     23         17     0.067251         0.030965  0.775569  0.028142\n",
      "4  Others     12         15     0.035088         0.027322  0.250144  0.001942\n",
      "IV : 1.498\n",
      "\n",
      "\n",
      "WoE and IV for column: Deck\n",
      "  Val  Event  Non-Event  Event_Distr  Non-Event_Distr       WOE        IV\n",
      "0   Z    206        481     0.602339         0.876138 -0.374703  0.102594\n",
      "1   C     35         24     0.102339         0.043716  0.850582  0.049864\n",
      "2   E     24          8     0.070175         0.014572  1.571900  0.087403\n",
      "3   G      2          2     0.005848         0.003643  0.473288  0.001044\n",
      "4   D     25          8     0.073099         0.014572  1.612722  0.094389\n",
      "5   A      7          8     0.020468         0.014572  0.339756  0.002003\n",
      "6   B     35         12     0.102339         0.021858  1.543729  0.124241\n",
      "7   F      8          5     0.023392         0.009107  0.943291  0.013474\n",
      "8   T      0          1     0.000000         0.001821  0.000000 -0.000000\n",
      "IV : 0.475\n",
      "\n",
      "\n"
     ]
    }
   ],
   "source": [
    "iv_list = []\n",
    "for column in data.columns:\n",
    "    if column == 'Survived':\n",
    "        continue\n",
    "    else:\n",
    "        print('WoE and IV for column: '+column)\n",
    "        df, iv = find_woe_iv(data, column, 'Survived')\n",
    "        iv_list.append({\"Column\":column,\"IV\":round(iv,ndigits=3)})\n",
    "        print(df)\n",
    "        print('IV : '+str(round(iv,ndigits=3)))\n",
    "        print('\\n')\n",
    "\n",
    "iv_df = pd.DataFrame(iv_list)\n",
    "iv_df = iv_df.sort_values(by=\"IV\", ascending=False)"
   ]
  },
  {
   "cell_type": "code",
   "execution_count": 39,
   "metadata": {},
   "outputs": [
    {
     "data": {
      "text/html": [
       "<div>\n",
       "<style scoped>\n",
       "    .dataframe tbody tr th:only-of-type {\n",
       "        vertical-align: middle;\n",
       "    }\n",
       "\n",
       "    .dataframe tbody tr th {\n",
       "        vertical-align: top;\n",
       "    }\n",
       "\n",
       "    .dataframe thead th {\n",
       "        text-align: right;\n",
       "    }\n",
       "</style>\n",
       "<table border=\"1\" class=\"dataframe\">\n",
       "  <thead>\n",
       "    <tr style=\"text-align: right;\">\n",
       "      <th></th>\n",
       "      <th>Column</th>\n",
       "      <th>IV</th>\n",
       "    </tr>\n",
       "  </thead>\n",
       "  <tbody>\n",
       "    <tr>\n",
       "      <td>7</td>\n",
       "      <td>Name_salutation</td>\n",
       "      <td>1.498</td>\n",
       "    </tr>\n",
       "    <tr>\n",
       "      <td>1</td>\n",
       "      <td>Sex</td>\n",
       "      <td>1.342</td>\n",
       "    </tr>\n",
       "    <tr>\n",
       "      <td>0</td>\n",
       "      <td>Pclass</td>\n",
       "      <td>0.501</td>\n",
       "    </tr>\n",
       "    <tr>\n",
       "      <td>8</td>\n",
       "      <td>Deck</td>\n",
       "      <td>0.475</td>\n",
       "    </tr>\n",
       "    <tr>\n",
       "      <td>6</td>\n",
       "      <td>Fare_bin</td>\n",
       "      <td>0.399</td>\n",
       "    </tr>\n",
       "    <tr>\n",
       "      <td>2</td>\n",
       "      <td>SibSp</td>\n",
       "      <td>0.142</td>\n",
       "    </tr>\n",
       "    <tr>\n",
       "      <td>4</td>\n",
       "      <td>Embarked</td>\n",
       "      <td>0.120</td>\n",
       "    </tr>\n",
       "    <tr>\n",
       "      <td>3</td>\n",
       "      <td>Parch</td>\n",
       "      <td>0.115</td>\n",
       "    </tr>\n",
       "    <tr>\n",
       "      <td>5</td>\n",
       "      <td>Age_bin</td>\n",
       "      <td>0.086</td>\n",
       "    </tr>\n",
       "  </tbody>\n",
       "</table>\n",
       "</div>"
      ],
      "text/plain": [
       "            Column     IV\n",
       "7  Name_salutation  1.498\n",
       "1              Sex  1.342\n",
       "0           Pclass  0.501\n",
       "8             Deck  0.475\n",
       "6         Fare_bin  0.399\n",
       "2            SibSp  0.142\n",
       "4         Embarked  0.120\n",
       "3            Parch  0.115\n",
       "5          Age_bin  0.086"
      ]
     },
     "execution_count": 39,
     "metadata": {},
     "output_type": "execute_result"
    }
   ],
   "source": [
    "iv_df"
   ]
  },
  {
   "cell_type": "code",
   "execution_count": 40,
   "metadata": {},
   "outputs": [],
   "source": [
    "selected_columns = [row[\"Column\"] for _,row in iv_df.iterrows() if row[\"IV\"]>=0.1]"
   ]
  },
  {
   "cell_type": "code",
   "execution_count": 41,
   "metadata": {},
   "outputs": [],
   "source": [
    "data = data[selected_columns]"
   ]
  },
  {
   "cell_type": "code",
   "execution_count": 42,
   "metadata": {},
   "outputs": [
    {
     "data": {
      "text/html": [
       "<div>\n",
       "<style scoped>\n",
       "    .dataframe tbody tr th:only-of-type {\n",
       "        vertical-align: middle;\n",
       "    }\n",
       "\n",
       "    .dataframe tbody tr th {\n",
       "        vertical-align: top;\n",
       "    }\n",
       "\n",
       "    .dataframe thead th {\n",
       "        text-align: right;\n",
       "    }\n",
       "</style>\n",
       "<table border=\"1\" class=\"dataframe\">\n",
       "  <thead>\n",
       "    <tr style=\"text-align: right;\">\n",
       "      <th></th>\n",
       "      <th>Name_salutation</th>\n",
       "      <th>Sex</th>\n",
       "      <th>Pclass</th>\n",
       "      <th>Deck</th>\n",
       "      <th>Fare_bin</th>\n",
       "      <th>SibSp</th>\n",
       "      <th>Embarked</th>\n",
       "      <th>Parch</th>\n",
       "    </tr>\n",
       "  </thead>\n",
       "  <tbody>\n",
       "    <tr>\n",
       "      <td>0</td>\n",
       "      <td>Mr</td>\n",
       "      <td>male</td>\n",
       "      <td>3</td>\n",
       "      <td>Z</td>\n",
       "      <td>Second</td>\n",
       "      <td>1</td>\n",
       "      <td>S</td>\n",
       "      <td>0</td>\n",
       "    </tr>\n",
       "    <tr>\n",
       "      <td>1</td>\n",
       "      <td>Mrs</td>\n",
       "      <td>female</td>\n",
       "      <td>1</td>\n",
       "      <td>C</td>\n",
       "      <td>Fifth</td>\n",
       "      <td>1</td>\n",
       "      <td>C</td>\n",
       "      <td>0</td>\n",
       "    </tr>\n",
       "    <tr>\n",
       "      <td>2</td>\n",
       "      <td>Miss</td>\n",
       "      <td>female</td>\n",
       "      <td>3</td>\n",
       "      <td>Z</td>\n",
       "      <td>Second</td>\n",
       "      <td>0</td>\n",
       "      <td>S</td>\n",
       "      <td>0</td>\n",
       "    </tr>\n",
       "    <tr>\n",
       "      <td>3</td>\n",
       "      <td>Mrs</td>\n",
       "      <td>female</td>\n",
       "      <td>1</td>\n",
       "      <td>C</td>\n",
       "      <td>Fourth</td>\n",
       "      <td>1</td>\n",
       "      <td>S</td>\n",
       "      <td>0</td>\n",
       "    </tr>\n",
       "    <tr>\n",
       "      <td>4</td>\n",
       "      <td>Mr</td>\n",
       "      <td>male</td>\n",
       "      <td>3</td>\n",
       "      <td>Z</td>\n",
       "      <td>Second</td>\n",
       "      <td>0</td>\n",
       "      <td>S</td>\n",
       "      <td>0</td>\n",
       "    </tr>\n",
       "  </tbody>\n",
       "</table>\n",
       "</div>"
      ],
      "text/plain": [
       "  Name_salutation     Sex  Pclass Deck Fare_bin  SibSp Embarked  Parch\n",
       "0              Mr    male       3    Z   Second      1        S      0\n",
       "1             Mrs  female       1    C    Fifth      1        C      0\n",
       "2            Miss  female       3    Z   Second      0        S      0\n",
       "3             Mrs  female       1    C   Fourth      1        S      0\n",
       "4              Mr    male       3    Z   Second      0        S      0"
      ]
     },
     "execution_count": 42,
     "metadata": {},
     "output_type": "execute_result"
    }
   ],
   "source": [
    "data.head()"
   ]
  },
  {
   "cell_type": "code",
   "execution_count": 43,
   "metadata": {},
   "outputs": [],
   "source": [
    "def coarse_classing(dataframe, index1, index2):\n",
    "    mean_value =  pd.DataFrame(np.mean(pd.DataFrame([dataframe.iloc[index1],dataframe.iloc[index2]]))).T\n",
    "    coarsed_col_dropped = dataframe.drop([index1,index2], axis = 0)\n",
    "    \n",
    "    coarsed_dataframe = pd.concat([coarsed_col_dropped,mean_value], axis = 0)\n",
    "    \n",
    "    return coarsed_dataframe"
   ]
  },
  {
   "cell_type": "code",
   "execution_count": 44,
   "metadata": {},
   "outputs": [
    {
     "data": {
      "text/html": [
       "<div>\n",
       "<style scoped>\n",
       "    .dataframe tbody tr th:only-of-type {\n",
       "        vertical-align: middle;\n",
       "    }\n",
       "\n",
       "    .dataframe tbody tr th {\n",
       "        vertical-align: top;\n",
       "    }\n",
       "\n",
       "    .dataframe thead th {\n",
       "        text-align: right;\n",
       "    }\n",
       "</style>\n",
       "<table border=\"1\" class=\"dataframe\">\n",
       "  <thead>\n",
       "    <tr style=\"text-align: right;\">\n",
       "      <th></th>\n",
       "      <th>Event</th>\n",
       "      <th>Event_Distr</th>\n",
       "      <th>IV</th>\n",
       "      <th>Non-Event</th>\n",
       "      <th>Non-Event_Distr</th>\n",
       "      <th>Val</th>\n",
       "      <th>WOE</th>\n",
       "    </tr>\n",
       "  </thead>\n",
       "  <tbody>\n",
       "    <tr>\n",
       "      <td>0</td>\n",
       "      <td>206.0</td>\n",
       "      <td>0.602339</td>\n",
       "      <td>0.102594</td>\n",
       "      <td>481.0</td>\n",
       "      <td>0.876138</td>\n",
       "      <td>Z</td>\n",
       "      <td>-0.374703</td>\n",
       "    </tr>\n",
       "    <tr>\n",
       "      <td>1</td>\n",
       "      <td>35.0</td>\n",
       "      <td>0.102339</td>\n",
       "      <td>0.049864</td>\n",
       "      <td>24.0</td>\n",
       "      <td>0.043716</td>\n",
       "      <td>C</td>\n",
       "      <td>0.850582</td>\n",
       "    </tr>\n",
       "    <tr>\n",
       "      <td>3</td>\n",
       "      <td>2.0</td>\n",
       "      <td>0.005848</td>\n",
       "      <td>0.001044</td>\n",
       "      <td>2.0</td>\n",
       "      <td>0.003643</td>\n",
       "      <td>G</td>\n",
       "      <td>0.473288</td>\n",
       "    </tr>\n",
       "    <tr>\n",
       "      <td>5</td>\n",
       "      <td>7.0</td>\n",
       "      <td>0.020468</td>\n",
       "      <td>0.002003</td>\n",
       "      <td>8.0</td>\n",
       "      <td>0.014572</td>\n",
       "      <td>A</td>\n",
       "      <td>0.339756</td>\n",
       "    </tr>\n",
       "    <tr>\n",
       "      <td>6</td>\n",
       "      <td>35.0</td>\n",
       "      <td>0.102339</td>\n",
       "      <td>0.124241</td>\n",
       "      <td>12.0</td>\n",
       "      <td>0.021858</td>\n",
       "      <td>B</td>\n",
       "      <td>1.543729</td>\n",
       "    </tr>\n",
       "    <tr>\n",
       "      <td>7</td>\n",
       "      <td>8.0</td>\n",
       "      <td>0.023392</td>\n",
       "      <td>0.013474</td>\n",
       "      <td>5.0</td>\n",
       "      <td>0.009107</td>\n",
       "      <td>F</td>\n",
       "      <td>0.943291</td>\n",
       "    </tr>\n",
       "    <tr>\n",
       "      <td>8</td>\n",
       "      <td>0.0</td>\n",
       "      <td>0.000000</td>\n",
       "      <td>-0.000000</td>\n",
       "      <td>1.0</td>\n",
       "      <td>0.001821</td>\n",
       "      <td>T</td>\n",
       "      <td>0.000000</td>\n",
       "    </tr>\n",
       "    <tr>\n",
       "      <td>0</td>\n",
       "      <td>24.5</td>\n",
       "      <td>0.071637</td>\n",
       "      <td>0.090896</td>\n",
       "      <td>8.0</td>\n",
       "      <td>0.014572</td>\n",
       "      <td>NaN</td>\n",
       "      <td>1.592311</td>\n",
       "    </tr>\n",
       "  </tbody>\n",
       "</table>\n",
       "</div>"
      ],
      "text/plain": [
       "   Event  Event_Distr        IV  Non-Event  Non-Event_Distr  Val       WOE\n",
       "0  206.0     0.602339  0.102594      481.0         0.876138    Z -0.374703\n",
       "1   35.0     0.102339  0.049864       24.0         0.043716    C  0.850582\n",
       "3    2.0     0.005848  0.001044        2.0         0.003643    G  0.473288\n",
       "5    7.0     0.020468  0.002003        8.0         0.014572    A  0.339756\n",
       "6   35.0     0.102339  0.124241       12.0         0.021858    B  1.543729\n",
       "7    8.0     0.023392  0.013474        5.0         0.009107    F  0.943291\n",
       "8    0.0     0.000000 -0.000000        1.0         0.001821    T  0.000000\n",
       "0   24.5     0.071637  0.090896        8.0         0.014572  NaN  1.592311"
      ]
     },
     "execution_count": 44,
     "metadata": {},
     "output_type": "execute_result"
    }
   ],
   "source": [
    "coarse_classing(df,2,4)"
   ]
  },
  {
   "cell_type": "code",
   "execution_count": 45,
   "metadata": {},
   "outputs": [],
   "source": [
    "categorical_variable = ['Sex','Embarked','Deck',\"Fare_bin\",\"Name_salutation\"]"
   ]
  },
  {
   "cell_type": "code",
   "execution_count": 46,
   "metadata": {},
   "outputs": [],
   "source": [
    "for cat_var in categorical_variable:\n",
    "    data[cat_var] = data[cat_var].astype('category')\n",
    "    data[cat_var] = data[cat_var].cat.codes\n"
   ]
  },
  {
   "cell_type": "code",
   "execution_count": 47,
   "metadata": {},
   "outputs": [
    {
     "data": {
      "text/html": [
       "<div>\n",
       "<style scoped>\n",
       "    .dataframe tbody tr th:only-of-type {\n",
       "        vertical-align: middle;\n",
       "    }\n",
       "\n",
       "    .dataframe tbody tr th {\n",
       "        vertical-align: top;\n",
       "    }\n",
       "\n",
       "    .dataframe thead th {\n",
       "        text-align: right;\n",
       "    }\n",
       "</style>\n",
       "<table border=\"1\" class=\"dataframe\">\n",
       "  <thead>\n",
       "    <tr style=\"text-align: right;\">\n",
       "      <th></th>\n",
       "      <th>Name_salutation</th>\n",
       "      <th>Sex</th>\n",
       "      <th>Pclass</th>\n",
       "      <th>Deck</th>\n",
       "      <th>Fare_bin</th>\n",
       "      <th>SibSp</th>\n",
       "      <th>Embarked</th>\n",
       "      <th>Parch</th>\n",
       "    </tr>\n",
       "  </thead>\n",
       "  <tbody>\n",
       "    <tr>\n",
       "      <td>0</td>\n",
       "      <td>2</td>\n",
       "      <td>1</td>\n",
       "      <td>3</td>\n",
       "      <td>8</td>\n",
       "      <td>1</td>\n",
       "      <td>1</td>\n",
       "      <td>2</td>\n",
       "      <td>0</td>\n",
       "    </tr>\n",
       "    <tr>\n",
       "      <td>1</td>\n",
       "      <td>3</td>\n",
       "      <td>0</td>\n",
       "      <td>1</td>\n",
       "      <td>2</td>\n",
       "      <td>4</td>\n",
       "      <td>1</td>\n",
       "      <td>0</td>\n",
       "      <td>0</td>\n",
       "    </tr>\n",
       "    <tr>\n",
       "      <td>2</td>\n",
       "      <td>1</td>\n",
       "      <td>0</td>\n",
       "      <td>3</td>\n",
       "      <td>8</td>\n",
       "      <td>1</td>\n",
       "      <td>0</td>\n",
       "      <td>2</td>\n",
       "      <td>0</td>\n",
       "    </tr>\n",
       "    <tr>\n",
       "      <td>3</td>\n",
       "      <td>3</td>\n",
       "      <td>0</td>\n",
       "      <td>1</td>\n",
       "      <td>2</td>\n",
       "      <td>3</td>\n",
       "      <td>1</td>\n",
       "      <td>2</td>\n",
       "      <td>0</td>\n",
       "    </tr>\n",
       "    <tr>\n",
       "      <td>4</td>\n",
       "      <td>2</td>\n",
       "      <td>1</td>\n",
       "      <td>3</td>\n",
       "      <td>8</td>\n",
       "      <td>1</td>\n",
       "      <td>0</td>\n",
       "      <td>2</td>\n",
       "      <td>0</td>\n",
       "    </tr>\n",
       "  </tbody>\n",
       "</table>\n",
       "</div>"
      ],
      "text/plain": [
       "   Name_salutation  Sex  Pclass  Deck  Fare_bin  SibSp  Embarked  Parch\n",
       "0                2    1       3     8         1      1         2      0\n",
       "1                3    0       1     2         4      1         0      0\n",
       "2                1    0       3     8         1      0         2      0\n",
       "3                3    0       1     2         3      1         2      0\n",
       "4                2    1       3     8         1      0         2      0"
      ]
     },
     "execution_count": 47,
     "metadata": {},
     "output_type": "execute_result"
    }
   ],
   "source": [
    "data.head()"
   ]
  },
  {
   "cell_type": "markdown",
   "metadata": {},
   "source": [
    "## Model Selection,  Training and Evaluation "
   ]
  },
  {
   "cell_type": "code",
   "execution_count": 48,
   "metadata": {},
   "outputs": [],
   "source": [
    "X_train, X_test, Y_train, Y_test = train_test_split(data, target, test_size = 0.2)"
   ]
  },
  {
   "cell_type": "code",
   "execution_count": 49,
   "metadata": {},
   "outputs": [],
   "source": [
    "model_eval_list = []"
   ]
  },
  {
   "cell_type": "code",
   "execution_count": 50,
   "metadata": {
    "scrolled": true
   },
   "outputs": [
    {
     "name": "stdout",
     "output_type": "stream",
     "text": [
      "Precision = 0.8273655450100661\n",
      "Recall = 0.792985842985843\n",
      "Accuracy = 0.8156424581005587\n"
     ]
    }
   ],
   "source": [
    "D_train = xgb.DMatrix(X_train, label = Y_train)\n",
    "D_test = xgb.DMatrix(X_test, label= Y_test)\n",
    "\n",
    "param = {\n",
    "    'eta': 0.2, \n",
    "    'max_depth': 3,  \n",
    "    'objective': 'multi:softprob',  \n",
    "    'num_class': 2} \n",
    "\n",
    "steps = 100  # The number of training iterations\n",
    "\n",
    "model = xgb.train(param, D_train, steps)\n",
    "\n",
    "preds = model.predict(D_test)\n",
    "\n",
    "best_preds = np.asarray([np.argmax(line) for line in preds])\n",
    "\n",
    "precision = precision_score(Y_test, best_preds, average='macro')\n",
    "recall = recall_score(Y_test, best_preds, average='macro')\n",
    "accuracy =accuracy_score(Y_test, best_preds)\n",
    "\n",
    "eval_dict={}\n",
    "eval_dict[\"Classifier\"] = model.__class__.__name__\n",
    "eval_dict[\"Precision\"] = precision\n",
    "eval_dict[\"Recall\"] = recall\n",
    "eval_dict[\"Accuracy\"] = accuracy\n",
    "model_eval_list.append(eval_dict)\n",
    "\n",
    "print(\"Precision = {}\".format(precision))\n",
    "print(\"Recall = {}\".format(recall))\n",
    "print(\"Accuracy = {}\".format(accuracy))"
   ]
  },
  {
   "cell_type": "code",
   "execution_count": 51,
   "metadata": {},
   "outputs": [
    {
     "name": "stdout",
     "output_type": "stream",
     "text": [
      "Precision = 0.8456238643246518\n",
      "Recall = 0.7937580437580437\n",
      "Accuracy = 0.8212290502793296\n"
     ]
    }
   ],
   "source": [
    "from xgboost import XGBClassifier\n",
    "\n",
    "model = XGBClassifier()\n",
    "\n",
    "model.fit(X_train,Y_train)\n",
    "\n",
    "pred = model.predict(X_test)\n",
    "\n",
    "precision = precision_score(Y_test, pred, average='macro')\n",
    "recall = recall_score(Y_test, pred, average='macro')\n",
    "accuracy =accuracy_score(Y_test, pred)\n",
    "\n",
    "eval_dict={}\n",
    "eval_dict[\"Classifier\"] = model.__class__.__name__\n",
    "eval_dict[\"Precision\"] = precision\n",
    "eval_dict[\"Recall\"] = recall\n",
    "eval_dict[\"Accuracy\"] = accuracy\n",
    "model_eval_list.append(eval_dict)\n",
    "\n",
    "print(\"Precision = {}\".format(precision))\n",
    "print(\"Recall = {}\".format(recall))\n",
    "print(\"Accuracy = {}\".format(accuracy))\n"
   ]
  },
  {
   "cell_type": "code",
   "execution_count": 52,
   "metadata": {},
   "outputs": [
    {
     "name": "stdout",
     "output_type": "stream",
     "text": [
      "Precision = 0.8402358354903652\n",
      "Recall = 0.8045045045045045\n",
      "Accuracy = 0.8268156424581006\n"
     ]
    }
   ],
   "source": [
    "from xgboost import XGBRFClassifier\n",
    "\n",
    "model = XGBRFClassifier()\n",
    "\n",
    "model.fit(X_train,Y_train)\n",
    "\n",
    "pred = model.predict(X_test)\n",
    "\n",
    "precision = precision_score(Y_test, pred, average='macro')\n",
    "recall = recall_score(Y_test, pred, average='macro')\n",
    "accuracy =accuracy_score(Y_test, pred)\n",
    "\n",
    "eval_dict={}\n",
    "eval_dict[\"Classifier\"] = model.__class__.__name__\n",
    "eval_dict[\"Precision\"] = precision\n",
    "eval_dict[\"Recall\"] = recall\n",
    "eval_dict[\"Accuracy\"] = accuracy\n",
    "model_eval_list.append(eval_dict)\n",
    "\n",
    "print(\"Precision = {}\".format(precision))\n",
    "print(\"Recall = {}\".format(recall))\n",
    "print(\"Accuracy = {}\".format(accuracy))\n",
    "\n"
   ]
  },
  {
   "cell_type": "code",
   "execution_count": 53,
   "metadata": {},
   "outputs": [],
   "source": [
    "from sklearn.tree import DecisionTreeClassifier"
   ]
  },
  {
   "cell_type": "code",
   "execution_count": 54,
   "metadata": {},
   "outputs": [
    {
     "name": "stdout",
     "output_type": "stream",
     "text": [
      "Precision = 0.8006666666666666\n",
      "Recall = 0.7611969111969112\n",
      "Accuracy = 0.7877094972067039\n"
     ]
    }
   ],
   "source": [
    "model = DecisionTreeClassifier(criterion = \"gini\", \n",
    "            random_state = 100,max_depth=3, min_samples_leaf=5)\n",
    "\n",
    "model.fit(X_train, Y_train)\n",
    "\n",
    "pred = model.predict(X_test)\n",
    "\n",
    "precision = precision_score(Y_test, pred, average='macro')\n",
    "recall = recall_score(Y_test, pred, average='macro')\n",
    "accuracy =accuracy_score(Y_test, pred)\n",
    "\n",
    "eval_dict={}\n",
    "eval_dict[\"Classifier\"] = model.__class__.__name__+\"_gini\"\n",
    "eval_dict[\"Precision\"] = precision\n",
    "eval_dict[\"Recall\"] = recall\n",
    "eval_dict[\"Accuracy\"] = accuracy\n",
    "model_eval_list.append(eval_dict)\n",
    "\n",
    "print(\"Precision = {}\".format(precision))\n",
    "print(\"Recall = {}\".format(recall))\n",
    "print(\"Accuracy = {}\".format(accuracy))"
   ]
  },
  {
   "cell_type": "code",
   "execution_count": 55,
   "metadata": {},
   "outputs": [
    {
     "name": "stdout",
     "output_type": "stream",
     "text": [
      "Precision = 0.8006666666666666\n",
      "Recall = 0.7611969111969112\n",
      "Accuracy = 0.7877094972067039\n"
     ]
    }
   ],
   "source": [
    "model = DecisionTreeClassifier(criterion = \"entropy\", \n",
    "            random_state = 100,max_depth=3, min_samples_leaf=5)\n",
    "\n",
    "model.fit(X_train, Y_train)\n",
    "\n",
    "pred = model.predict(X_test)\n",
    "\n",
    "precision = precision_score(Y_test, pred, average='macro')\n",
    "recall = recall_score(Y_test, pred, average='macro')\n",
    "accuracy =accuracy_score(Y_test, pred)\n",
    "\n",
    "eval_dict={}\n",
    "eval_dict[\"Classifier\"] = model.__class__.__name__+\"_entropy\"\n",
    "eval_dict[\"Precision\"] = precision\n",
    "eval_dict[\"Recall\"] = recall\n",
    "eval_dict[\"Accuracy\"] = accuracy\n",
    "model_eval_list.append(eval_dict)\n",
    "\n",
    "print(\"Precision = {}\".format(precision))\n",
    "print(\"Recall = {}\".format(recall))\n",
    "print(\"Accuracy = {}\".format(accuracy))"
   ]
  },
  {
   "cell_type": "code",
   "execution_count": 56,
   "metadata": {},
   "outputs": [
    {
     "name": "stdout",
     "output_type": "stream",
     "text": [
      "Precision = 0.8006666666666666\n",
      "Recall = 0.7611969111969112\n",
      "Accuracy = 0.7877094972067039\n"
     ]
    }
   ],
   "source": [
    "from sklearn.ensemble import RandomForestClassifier\n",
    "\n",
    "model = RandomForestClassifier(n_estimators = 1000, random_state = 42)\n",
    "\n",
    "model.fit(X_train, Y_train)\n",
    "\n",
    "precision = precision_score(Y_test, pred, average='macro')\n",
    "recall = recall_score(Y_test, pred, average='macro')\n",
    "accuracy =accuracy_score(Y_test, pred)\n",
    "\n",
    "eval_dict={}\n",
    "eval_dict[\"Classifier\"] = model.__class__.__name__\n",
    "eval_dict[\"Precision\"] = precision\n",
    "eval_dict[\"Recall\"] = recall\n",
    "eval_dict[\"Accuracy\"] = accuracy\n",
    "model_eval_list.append(eval_dict)\n",
    "\n",
    "print(\"Precision = {}\".format(precision))\n",
    "print(\"Recall = {}\".format(recall))\n",
    "print(\"Accuracy = {}\".format(accuracy))"
   ]
  },
  {
   "cell_type": "code",
   "execution_count": 57,
   "metadata": {},
   "outputs": [],
   "source": [
    "from sklearn.ensemble import BaggingClassifier, ExtraTreesClassifier, RandomForestClassifier\n",
    "from sklearn.neighbors import KNeighborsClassifier\n",
    "from sklearn.linear_model import RidgeClassifier\n",
    "from sklearn.svm import SVC"
   ]
  },
  {
   "cell_type": "code",
   "execution_count": 58,
   "metadata": {},
   "outputs": [
    {
     "name": "stdout",
     "output_type": "stream",
     "text": [
      "Classifier = RandomForestClassifier\n",
      "Precision = 0.8006666666666666\n",
      "Recall = 0.7611969111969112\n",
      "Accuracy = 0.7877094972067039\n",
      "-----------***********------------\n",
      "\n",
      "Classifier = ExtraTreesClassifier\n",
      "Precision = 0.8006666666666666\n",
      "Recall = 0.7611969111969112\n",
      "Accuracy = 0.7877094972067039\n",
      "-----------***********------------\n",
      "\n",
      "Classifier = KNeighborsClassifier\n",
      "Precision = 0.8006666666666666\n",
      "Recall = 0.7611969111969112\n",
      "Accuracy = 0.7877094972067039\n",
      "-----------***********------------\n",
      "\n",
      "Classifier = SVC\n",
      "Precision = 0.8006666666666666\n",
      "Recall = 0.7611969111969112\n",
      "Accuracy = 0.7877094972067039\n",
      "-----------***********------------\n",
      "\n",
      "Classifier = RidgeClassifier\n",
      "Precision = 0.8006666666666666\n",
      "Recall = 0.7611969111969112\n",
      "Accuracy = 0.7877094972067039\n",
      "-----------***********------------\n",
      "\n"
     ]
    }
   ],
   "source": [
    "\n",
    "# Create classifiers\n",
    "rf = RandomForestClassifier()\n",
    "et = ExtraTreesClassifier()\n",
    "knn = KNeighborsClassifier()\n",
    "svc = SVC()\n",
    "rg = RidgeClassifier()\n",
    "clf_array = [rf, et, knn, svc, rg]\n",
    "for clf in clf_array:\n",
    "    model = BaggingClassifier(clf, \n",
    "       max_samples=0.4, max_features=5, random_state=42)\n",
    "    \n",
    "    model.fit(X_train, Y_train)\n",
    "    \n",
    "    precision = precision_score(Y_test, pred, average='macro')\n",
    "    recall = recall_score(Y_test, pred, average='macro')\n",
    "    accuracy =accuracy_score(Y_test, pred)\n",
    "\n",
    "    eval_dict={}\n",
    "    eval_dict[\"Classifier\"] = \"Bagging_\"+model.__class__.__name__\n",
    "    eval_dict[\"Precision\"] = precision\n",
    "    eval_dict[\"Recall\"] = recall\n",
    "    eval_dict[\"Accuracy\"] = accuracy\n",
    "    model_eval_list.append(eval_dict)\n",
    "\n",
    "    print(\"Classifier = \"+clf.__class__.__name__)\n",
    "    print(\"Precision = {}\".format(precision))\n",
    "    print(\"Recall = {}\".format(recall))\n",
    "    print(\"Accuracy = {}\".format(accuracy))\n",
    "    print(\"-----------***********------------\\n\")\n",
    "    "
   ]
  },
  {
   "cell_type": "code",
   "execution_count": 59,
   "metadata": {},
   "outputs": [
    {
     "name": "stdout",
     "output_type": "stream",
     "text": [
      "Precision = 0.8006666666666666\n",
      "Recall = 0.7611969111969112\n",
      "Accuracy = 0.7877094972067039\n"
     ]
    }
   ],
   "source": [
    "from sklearn.ensemble import AdaBoostClassifier\n",
    "\n",
    "model = AdaBoostClassifier(n_estimators=100, base_estimator= None,learning_rate=0.01, random_state = 1)\n",
    "\n",
    "model.fit(X_train, Y_train)\n",
    "\n",
    "precision = precision_score(Y_test, pred, average='macro')\n",
    "recall = recall_score(Y_test, pred, average='macro')\n",
    "accuracy =accuracy_score(Y_test, pred)\n",
    "\n",
    "eval_dict={}\n",
    "eval_dict[\"Classifier\"] = model.__class__.__name__\n",
    "eval_dict[\"Precision\"] = precision\n",
    "eval_dict[\"Recall\"] = recall\n",
    "eval_dict[\"Accuracy\"] = accuracy\n",
    "model_eval_list.append(eval_dict)\n",
    "\n",
    "print(\"Precision = {}\".format(precision))\n",
    "print(\"Recall = {}\".format(recall))\n",
    "print(\"Accuracy = {}\".format(accuracy))"
   ]
  },
  {
   "cell_type": "code",
   "execution_count": 60,
   "metadata": {},
   "outputs": [
    {
     "name": "stdout",
     "output_type": "stream",
     "text": [
      "Precision = 0.8006666666666666\n",
      "Recall = 0.7611969111969112\n",
      "Accuracy = 0.7877094972067039\n"
     ]
    }
   ],
   "source": [
    "from sklearn.ensemble import GradientBoostingClassifier\n",
    "\n",
    "model = GradientBoostingClassifier(\n",
    "    max_depth=2,\n",
    "    n_estimators=3,\n",
    "    learning_rate=0.9)\n",
    "\n",
    "model.fit(X_train, Y_train)\n",
    "\n",
    "precision = precision_score(Y_test, pred, average='macro')\n",
    "recall = recall_score(Y_test, pred, average='macro')\n",
    "accuracy =accuracy_score(Y_test, pred)\n",
    "\n",
    "eval_dict={}\n",
    "eval_dict[\"Classifier\"] = model.__class__.__name__\n",
    "eval_dict[\"Precision\"] = precision\n",
    "eval_dict[\"Recall\"] = recall\n",
    "eval_dict[\"Accuracy\"] = accuracy\n",
    "model_eval_list.append(eval_dict)\n",
    "\n",
    "print(\"Precision = {}\".format(precision))\n",
    "print(\"Recall = {}\".format(recall))\n",
    "print(\"Accuracy = {}\".format(accuracy))"
   ]
  },
  {
   "cell_type": "code",
   "execution_count": 61,
   "metadata": {},
   "outputs": [],
   "source": [
    "eval_df = pd.DataFrame(model_eval_list)"
   ]
  },
  {
   "cell_type": "code",
   "execution_count": 62,
   "metadata": {},
   "outputs": [
    {
     "data": {
      "text/html": [
       "<div>\n",
       "<style scoped>\n",
       "    .dataframe tbody tr th:only-of-type {\n",
       "        vertical-align: middle;\n",
       "    }\n",
       "\n",
       "    .dataframe tbody tr th {\n",
       "        vertical-align: top;\n",
       "    }\n",
       "\n",
       "    .dataframe thead th {\n",
       "        text-align: right;\n",
       "    }\n",
       "</style>\n",
       "<table border=\"1\" class=\"dataframe\">\n",
       "  <thead>\n",
       "    <tr style=\"text-align: right;\">\n",
       "      <th></th>\n",
       "      <th>Classifier</th>\n",
       "      <th>Precision</th>\n",
       "      <th>Recall</th>\n",
       "      <th>Accuracy</th>\n",
       "    </tr>\n",
       "  </thead>\n",
       "  <tbody>\n",
       "    <tr>\n",
       "      <td>0</td>\n",
       "      <td>Booster</td>\n",
       "      <td>0.827366</td>\n",
       "      <td>0.792986</td>\n",
       "      <td>0.815642</td>\n",
       "    </tr>\n",
       "    <tr>\n",
       "      <td>1</td>\n",
       "      <td>XGBClassifier</td>\n",
       "      <td>0.845624</td>\n",
       "      <td>0.793758</td>\n",
       "      <td>0.821229</td>\n",
       "    </tr>\n",
       "    <tr>\n",
       "      <td>2</td>\n",
       "      <td>XGBRFClassifier</td>\n",
       "      <td>0.840236</td>\n",
       "      <td>0.804505</td>\n",
       "      <td>0.826816</td>\n",
       "    </tr>\n",
       "    <tr>\n",
       "      <td>3</td>\n",
       "      <td>DecisionTreeClassifier_gini</td>\n",
       "      <td>0.800667</td>\n",
       "      <td>0.761197</td>\n",
       "      <td>0.787709</td>\n",
       "    </tr>\n",
       "    <tr>\n",
       "      <td>4</td>\n",
       "      <td>DecisionTreeClassifier_entropy</td>\n",
       "      <td>0.800667</td>\n",
       "      <td>0.761197</td>\n",
       "      <td>0.787709</td>\n",
       "    </tr>\n",
       "    <tr>\n",
       "      <td>5</td>\n",
       "      <td>RandomForestClassifier</td>\n",
       "      <td>0.800667</td>\n",
       "      <td>0.761197</td>\n",
       "      <td>0.787709</td>\n",
       "    </tr>\n",
       "    <tr>\n",
       "      <td>6</td>\n",
       "      <td>Bagging_BaggingClassifier</td>\n",
       "      <td>0.800667</td>\n",
       "      <td>0.761197</td>\n",
       "      <td>0.787709</td>\n",
       "    </tr>\n",
       "    <tr>\n",
       "      <td>7</td>\n",
       "      <td>Bagging_BaggingClassifier</td>\n",
       "      <td>0.800667</td>\n",
       "      <td>0.761197</td>\n",
       "      <td>0.787709</td>\n",
       "    </tr>\n",
       "    <tr>\n",
       "      <td>8</td>\n",
       "      <td>Bagging_BaggingClassifier</td>\n",
       "      <td>0.800667</td>\n",
       "      <td>0.761197</td>\n",
       "      <td>0.787709</td>\n",
       "    </tr>\n",
       "    <tr>\n",
       "      <td>9</td>\n",
       "      <td>Bagging_BaggingClassifier</td>\n",
       "      <td>0.800667</td>\n",
       "      <td>0.761197</td>\n",
       "      <td>0.787709</td>\n",
       "    </tr>\n",
       "    <tr>\n",
       "      <td>10</td>\n",
       "      <td>Bagging_BaggingClassifier</td>\n",
       "      <td>0.800667</td>\n",
       "      <td>0.761197</td>\n",
       "      <td>0.787709</td>\n",
       "    </tr>\n",
       "    <tr>\n",
       "      <td>11</td>\n",
       "      <td>AdaBoostClassifier</td>\n",
       "      <td>0.800667</td>\n",
       "      <td>0.761197</td>\n",
       "      <td>0.787709</td>\n",
       "    </tr>\n",
       "    <tr>\n",
       "      <td>12</td>\n",
       "      <td>GradientBoostingClassifier</td>\n",
       "      <td>0.800667</td>\n",
       "      <td>0.761197</td>\n",
       "      <td>0.787709</td>\n",
       "    </tr>\n",
       "  </tbody>\n",
       "</table>\n",
       "</div>"
      ],
      "text/plain": [
       "                        Classifier  Precision    Recall  Accuracy\n",
       "0                          Booster   0.827366  0.792986  0.815642\n",
       "1                    XGBClassifier   0.845624  0.793758  0.821229\n",
       "2                  XGBRFClassifier   0.840236  0.804505  0.826816\n",
       "3      DecisionTreeClassifier_gini   0.800667  0.761197  0.787709\n",
       "4   DecisionTreeClassifier_entropy   0.800667  0.761197  0.787709\n",
       "5           RandomForestClassifier   0.800667  0.761197  0.787709\n",
       "6        Bagging_BaggingClassifier   0.800667  0.761197  0.787709\n",
       "7        Bagging_BaggingClassifier   0.800667  0.761197  0.787709\n",
       "8        Bagging_BaggingClassifier   0.800667  0.761197  0.787709\n",
       "9        Bagging_BaggingClassifier   0.800667  0.761197  0.787709\n",
       "10       Bagging_BaggingClassifier   0.800667  0.761197  0.787709\n",
       "11              AdaBoostClassifier   0.800667  0.761197  0.787709\n",
       "12      GradientBoostingClassifier   0.800667  0.761197  0.787709"
      ]
     },
     "execution_count": 62,
     "metadata": {},
     "output_type": "execute_result"
    }
   ],
   "source": [
    "eval_df"
   ]
  },
  {
   "cell_type": "code",
   "execution_count": null,
   "metadata": {},
   "outputs": [],
   "source": []
  }
 ],
 "metadata": {
  "kernelspec": {
   "display_name": "Python 3",
   "language": "python",
   "name": "python3"
  },
  "language_info": {
   "codemirror_mode": {
    "name": "ipython",
    "version": 3
   },
   "file_extension": ".py",
   "mimetype": "text/x-python",
   "name": "python",
   "nbconvert_exporter": "python",
   "pygments_lexer": "ipython3",
   "version": "3.7.4"
  }
 },
 "nbformat": 4,
 "nbformat_minor": 2
}
